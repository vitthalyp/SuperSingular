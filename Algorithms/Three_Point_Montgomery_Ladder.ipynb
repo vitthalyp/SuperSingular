{
 "cells": [
  {
   "cell_type": "code",
   "execution_count": 13,
   "metadata": {},
   "outputs": [
    {
     "name": "stdout",
     "output_type": "stream",
     "text": [
      "what is the random integer you have chosen?\n",
      "654564324543846384384521546321\n",
      "5914848216336044407793234370949882540314624275329594833708341911310724707349080464395722492419404032885967889850147921171500107222654961779358763498254248456242854939971548386988198842354603026874241699165300340629849043981899\n",
      "Time taken by ladder: 15.0809288025milliseconds\n",
      "\n",
      "5914848216336044407793234370949882540314624275329594833708341911310724707349080464395722492419404032885967889850147921171500107222654961779358763498254248456242854939971548386988198842354603026874241699165300340629849043981899\n",
      "Time taken by benchmark: 24.955034256milliseconds\n"
     ]
    }
   ],
   "source": [
    "# Three point montgomery ladder P+kQ, proof of concept\n",
    "import time\n",
    "p=2^372*3^239-1 \n",
    "E=EllipticCurve(GF(p),[1,0])\n",
    "P=E(1, 362067072220685055964119128459254251482567797515101079512672126236217694374796122815362533672809467626727050916741924533690152841353032224075976298244250974178428753241046802963396732043762453584344146103985394686060011319959)\n",
    "Q=E(2, 2877498251315382617668990020838665577137241967025449793019652580571409380375011501101488597935850147221268760406197266136917408605369146858042066140507138305902526268909303624978617255482035281415888949332763019501677099956502)\n",
    "user=raw_input(\"what is the random integer you have chosen?\\n\")\n",
    "tic=time.time()\n",
    "f=int(user)\n",
    "c=int(user)\n",
    "if(c==0):\n",
    "    A=P\n",
    "    toc=time.time()\n",
    "    print(A)\n",
    "    print(\"Time taken by ladder: \"+str((toc-tic)*1000)+\"milliseconds\\n\")\n",
    "else:\n",
    "    P_Q=(P-Q)[0]\n",
    "    digit_store=[]\n",
    "    while(c):\n",
    "        digit_store.append(c&1)\n",
    "        c=c//2\n",
    "    digit_store.reverse()\n",
    "    count=0\n",
    "    flag=0\n",
    "    A_X=0\n",
    "    A_Z=0\n",
    "    B_X=Q[0]\n",
    "    B_Z=1\n",
    "    C_X=P[0]\n",
    "    C_Z=1\n",
    "    while (len(digit_store)!=0):\n",
    "        c=digit_store[0]\n",
    "        temp_A_X=A_X\n",
    "        temp_A_Z=A_Z\n",
    "        temp_B_X=B_X\n",
    "        temp_B_Z=B_Z\n",
    "        temp_C_X=C_X\n",
    "        temp_C_Z=C_Z\n",
    "        if(c&1==1 and flag==0):\n",
    "            A_X=Q[0]\n",
    "            A_Z=1\n",
    "            # DOUBLE B\n",
    "            B_X,B_Z=(temp_B_X^2-temp_B_Z^2)^2,4*temp_B_X*temp_B_Z*(temp_B_X^2+temp_B_Z^2)\n",
    "            # ladder on C=dadd(B,C,Q-P)\n",
    "            C_X,C_Z=(temp_B_X*temp_C_X-temp_B_Z*temp_C_Z)^2,P_Q*(temp_B_X*temp_C_Z-temp_B_Z*temp_C_X)^2\n",
    "            flag=1\n",
    "        elif(c&1==0 and flag==1):\n",
    "            # DOUBLE A\n",
    "            A_X,A_Z=(temp_A_X^2-temp_A_Z^2)^2,4*temp_A_X*temp_A_Z*(temp_A_X^2+temp_A_Z^2)\n",
    "            # ladder on B=dadd(A,B,Q)\n",
    "            B_X,B_Z=(temp_A_X*temp_B_X-temp_A_Z*temp_B_Z)^2,2*(temp_A_X*temp_B_Z-temp_A_Z*temp_B_X)^2\n",
    "            # ladder on C=dadd(A,C,P)\n",
    "            C_X,C_Z=(temp_A_X*temp_C_X-temp_A_Z*temp_C_Z)^2,(temp_A_X*temp_C_Z-temp_A_Z*temp_C_X)^2\n",
    "        elif(c&1==1 and flag==1):\n",
    "            # ladder on A=dadd(A,B,Q)\n",
    "            A_X,A_Z=(temp_A_X*temp_B_X-temp_A_Z*temp_B_Z)^2,2*(temp_A_X*temp_B_Z-temp_A_Z*temp_B_X)^2\n",
    "            # DOUBLE B\n",
    "            B_X,B_Z=(temp_B_X^2-temp_B_Z^2)^2,4*temp_B_X*temp_B_Z*(temp_B_X^2+temp_B_Z^2)\n",
    "            # ladder on C=dadd(B,C,Q-P)\n",
    "            C_X,C_Z=(temp_B_X*temp_C_X-temp_B_Z*temp_C_Z)^2,P_Q*((temp_B_X*temp_C_Z)-(temp_B_Z*temp_C_X))^2\n",
    "        elif(c&1==0 and flag==0):\n",
    "            continue\n",
    "        digit_store.pop(0)\n",
    "    out=(C_X*(C_Z^-1))\n",
    "    toc=time.time()\n",
    "    print(out)\n",
    "    print(\"Time taken by ladder: \"+str((toc-tic)*1000)+\"milliseconds\\n\")\n",
    "tic=time.time()\n",
    "O4=P+f*Q\n",
    "toc=time.time()\n",
    "print(O4[0])\n",
    "print(\"Time taken by benchmark: \"+str((toc-tic)*1000)+\"milliseconds\")"
   ]
  },
  {
   "cell_type": "code",
   "execution_count": null,
   "metadata": {},
   "outputs": [],
   "source": []
  }
 ],
 "metadata": {
  "kernelspec": {
   "display_name": "SageMath 8.7",
   "language": "",
   "name": "sagemath"
  },
  "language_info": {
   "codemirror_mode": {
    "name": "ipython",
    "version": 2
   },
   "file_extension": ".py",
   "mimetype": "text/x-python",
   "name": "python",
   "nbconvert_exporter": "python",
   "pygments_lexer": "ipython2",
   "version": "2.7.15"
  }
 },
 "nbformat": 4,
 "nbformat_minor": 2
}
