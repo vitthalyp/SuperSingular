{
 "cells": [
  {
   "cell_type": "code",
   "execution_count": 4,
   "metadata": {},
   "outputs": [
    {
     "name": "stdout",
     "output_type": "stream",
     "text": [
      "6553600000000000000000000000000000000000000000000000000000000000\n"
     ]
    }
   ],
   "source": [
    "#karatsuba algorithm with base 256\n",
    "def karatsuba(num1,num2):\n",
    "    if num1<256 or num2<256:\n",
    "        return num1*num2\n",
    "    digit_count_1 = num1.nbits()\n",
    "    digit_count_2 = num2.nbits()\n",
    "    if(digit_count_1%8 != 0):\n",
    "        digit_count_1 = digit_count_1//8 + 1\n",
    "    \n",
    "    else:\n",
    "        digit_count_1 = digit_count_1//8\n",
    "         \n",
    "    if(digit_count_2%8 != 0):\n",
    "        digit_count_2 = digit_count_2//8 + 1\n",
    "        \n",
    "    else:\n",
    "        digit_count_2 = digit_count_2//8\n",
    "        \n",
    "    m=min(digit_count_2,digit_count_2)\n",
    "    m2=m//2\n",
    "    (high1,low1)=(num1 >> (m2*8),num1-((num1 >> (m2*8))<<(m2*8)))\n",
    "    (high2,low2)=(num2 >> (m2*8),num2-((num2 >> (m2*8))<<(m2*8)))\n",
    "    z0=karatsuba(low1,low2)\n",
    "    z2=karatsuba(high1,high2)\n",
    "    (num1,num2)=((low1+high1),(low2+high2))\n",
    "    z1=karatsuba((low1+high1),(low2+high2))\n",
    "    return (z2<<(m2*16))+((z1-z0-z2)<<(m2*8))+z0\n",
    "print(karatsuba(25600000000000000000000000,256000000000000000000000000000000000000))"
   ]
  },
  {
   "cell_type": "code",
   "execution_count": null,
   "metadata": {},
   "outputs": [],
   "source": []
  }
 ],
 "metadata": {
  "kernelspec": {
   "display_name": "SageMath 8.7",
   "language": "",
   "name": "sagemath"
  },
  "language_info": {
   "codemirror_mode": {
    "name": "ipython",
    "version": 2
   },
   "file_extension": ".py",
   "mimetype": "text/x-python",
   "name": "python",
   "nbconvert_exporter": "python",
   "pygments_lexer": "ipython2",
   "version": "2.7.15"
  }
 },
 "nbformat": 4,
 "nbformat_minor": 2
}
