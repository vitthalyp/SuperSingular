{
 "cells": [
  {
   "cell_type": "code",
   "execution_count": 5,
   "metadata": {},
   "outputs": [
    {
     "name": "stdout",
     "output_type": "stream",
     "text": [
      "100 loops, best of 3: 2.27 ms per loop\n",
      "100 loops, best of 3: 1.99 ms per loop\n"
     ]
    }
   ],
   "source": [
    "p=2^372*3^239-1 \n",
    "K.<a>=GF(p^2,'a',modulus=[1,0,1])\n",
    "root=a\n",
    "K=GF(p^2,'a',modulus=[1,0,1])\n",
    "E=EllipticCurve(K,[1,0])\n",
    "n=372\n",
    "C=E(0,0)\n",
    "Infi=(2*C)\n",
    "def distorsion_map(P):\n",
    "    x=-P[0]\n",
    "    y=P[1]*root\n",
    "    return E(x,y)\n",
    "P=E(6,4688558410880967105802548485745508960029362498156488028653160515710832445592615410221556012727376816077230428365690034126899246042233876329216033729810811325868800516984641936994142700675815111949425502583260986657458474705646)\n",
    "P_A=(2^372)*P\n",
    "Q_A=distorsion_map(P_A)\n",
    "def three_point_ladder(P,Q,alpha):\n",
    "    if(alpha==0):\n",
    "        return P\n",
    "    else:\n",
    "        P_Q=(P-Q)[0]\n",
    "        digit_store=[]\n",
    "        while(alpha):\n",
    "            digit_store.append(alpha&1)\n",
    "            alpha=alpha//2\n",
    "        digit_store.reverse()\n",
    "        flag=0\n",
    "        A_X=0\n",
    "        A_Z=0\n",
    "        B_X=Q[0]\n",
    "        B_Z=1\n",
    "        C_X=P[0]\n",
    "        C_Z=1\n",
    "        while (len(digit_store)!=0):\n",
    "            c=digit_store[0]\n",
    "            temp_A_X=A_X\n",
    "            temp_A_Z=A_Z\n",
    "            temp_B_X=B_X\n",
    "            temp_B_Z=B_Z\n",
    "            temp_C_X=C_X\n",
    "            temp_C_Z=C_Z\n",
    "            if(c&1==1 and flag==0):\n",
    "                A_X=Q[0]\n",
    "                A_Z=1\n",
    "                # DOUBLE B\n",
    "                B_X,B_Z=(temp_B_X^2-temp_B_Z^2)^2,4*temp_B_X*temp_B_Z*(temp_B_X^2+temp_B_Z^2)\n",
    "                # ladder on C=dadd(B,C,Q-P)\n",
    "                C_X,C_Z=(temp_B_X*temp_C_X-temp_B_Z*temp_C_Z)^2,P_Q*(temp_B_X*temp_C_Z-temp_B_Z*temp_C_X)^2\n",
    "                flag=1\n",
    "            elif(c&1==0 and flag==1):\n",
    "                # DOUBLE A\n",
    "                A_X,A_Z=(temp_A_X^2-temp_A_Z^2)^2,4*temp_A_X*temp_A_Z*(temp_A_X^2+temp_A_Z^2)\n",
    "                # ladder on B=dadd(A,B,Q)\n",
    "                B_X,B_Z=(temp_A_X*temp_B_X-temp_A_Z*temp_B_Z)^2,Q[0]*(temp_A_X*temp_B_Z-temp_A_Z*temp_B_X)^2\n",
    "                # ladder on C=dadd(A,C,P)\n",
    "                C_X,C_Z=(temp_A_X*temp_C_X-temp_A_Z*temp_C_Z)^2,P[0]*(temp_A_X*temp_C_Z-temp_A_Z*temp_C_X)^2\n",
    "            elif(c&1==1 and flag==1):\n",
    "                # ladder on A=dadd(A,B,Q)\n",
    "                A_X,A_Z=(temp_A_X*temp_B_X-temp_A_Z*temp_B_Z)^2,Q[0]*(temp_A_X*temp_B_Z-temp_A_Z*temp_B_X)^2\n",
    "                # DOUBLE B\n",
    "                B_X,B_Z=(temp_B_X^2-temp_B_Z^2)^2,4*temp_B_X*temp_B_Z*(temp_B_X^2+temp_B_Z^2)\n",
    "                # ladder on C=dadd(B,C,Q-P)\n",
    "                C_X,C_Z=(temp_B_X*temp_C_X-temp_B_Z*temp_C_Z)^2,P_Q*((temp_B_X*temp_C_Z)-(temp_B_Z*temp_C_X))^2\n",
    "            elif(c&1==0 and flag==0):\n",
    "                continue\n",
    "            digit_store.pop(0)\n",
    "        return((C_X*(C_Z^-1)),(A_X*(A_Z^-1)))\n",
    "def okeya_sakurai(P,Q,alpha):\n",
    "    x=P[0]\n",
    "    y=P[1]\n",
    "    result=three_point_ladder(P,Q,alpha)\n",
    "    x2=result[0]\n",
    "    x1=result[1]\n",
    "    y2=((x+x2)*((x*x2)+1)-((x2-x)^2)*x1)*((2*y)^-1)\n",
    "    return E(x2,-y2)\n",
    "%timeit(okeya_sakurai(P_A,Q_A,2048))\n",
    "%timeit(P_A+2048*Q_A)"
   ]
  }
 ],
 "metadata": {
  "kernelspec": {
   "display_name": "SageMath 8.7",
   "language": "",
   "name": "sagemath"
  },
  "language_info": {
   "codemirror_mode": {
    "name": "ipython",
    "version": 2
   },
   "file_extension": ".py",
   "mimetype": "text/x-python",
   "name": "python",
   "nbconvert_exporter": "python",
   "pygments_lexer": "ipython2",
   "version": "2.7.15"
  }
 },
 "nbformat": 4,
 "nbformat_minor": 2
}
